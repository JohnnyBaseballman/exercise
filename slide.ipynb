{
 "cells": [
  {
   "cell_type": "markdown",
   "metadata": {
    "slideshow": {
     "slide_type": "slide"
    }
   },
   "source": [
    "# [資料視覺化]\n",
    "  ## 資料處理-Pandas\n",
    "-游承霖"
   ]
  },
  {
   "cell_type": "markdown",
   "metadata": {
    "slideshow": {
     "slide_type": "slide"
    }
   },
   "source": [
    " * 你有排過志願序嗎?\n",
    " * 當你在手動一筆一筆整理資料的時候，耗時又容易出錯\n",
    "\n",
    "<img style=\"float: middle;\" src=\"https://lh3.googleusercontent.com/AarLG93gCtr3BmTCBFJ-1pffieYAA5dgFSKsplimqz5AoRlcgzCfoMOTGZh6S_hs7erZigkm4QYs2Q=w914-h616-rw-no\" width=\"90%\">\n"
   ]
  },
  {
   "cell_type": "markdown",
   "metadata": {
    "slideshow": {
     "slide_type": "subslide"
    }
   },
   "source": [
    "學程式到現在，你會想要怎麼做呢?"
   ]
  },
  {
   "cell_type": "markdown",
   "metadata": {
    "slideshow": {
     "slide_type": "subslide"
    }
   },
   "source": [
    "# 這時候你需要 pandas 這個模組~~~\n",
    "如果你已經會pandas了，你可以直接右滑到底，去看參考資料"
   ]
  },
  {
   "cell_type": "markdown",
   "metadata": {
    "slideshow": {
     "slide_type": "slide"
    }
   },
   "source": [
    "安裝pandas\n"
   ]
  },
  {
   "cell_type": "code",
   "execution_count": 38,
   "metadata": {
    "slideshow": {
     "slide_type": "-"
    }
   },
   "outputs": [],
   "source": [
    "# 如果你有裝Anaconda，跑下面這一行\n",
    "Anconda install pandas\n",
    "\n",
    "# 如果你沒有裝Anaconda，跑下面這一行\n",
    "pip install pandas"
   ]
  },
  {
   "cell_type": "markdown",
   "metadata": {
    "slideshow": {
     "slide_type": "slide"
    }
   },
   "source": [
    "Pandas 能做到什麼？\n",
    "- 你在 excel 中能做到的大部分他都能做到\n",
    "    - 匯入 CSV、txt、JSON檔\n",
    "    - 建立表格，選取欄位\n",
    "    - 處理空值\n",
    "    - 查看統計數字\n",
    "    - 排序，計算欄位平均值，相關係數"
   ]
  },
  {
   "cell_type": "markdown",
   "metadata": {
    "slideshow": {
     "slide_type": "slide"
    }
   },
   "source": [
    "- 接下來你會學到\n",
    "    - 以pandas開啟檔案\n",
    "    - pandas 的兩種常用物件\n",
    "    - 排序，合併，讀取數據，統計數字，空值處理"
   ]
  },
  {
   "cell_type": "markdown",
   "metadata": {
    "slideshow": {
     "slide_type": "slide"
    }
   },
   "source": [
    "開始! 🐌\n",
    "\n",
    "<div style=\"text-align: center\">\n",
    "    <img src=\"https://i.imgur.com/278YOGk.jpg\">\n",
    "</div>"
   ]
  },
  {
   "cell_type": "markdown",
   "metadata": {
    "slideshow": {
     "slide_type": "slide"
    }
   },
   "source": [
    "以pandas開啟檔案\n",
    "* 利用　「pandas.read_csv()」 開啟csv檔"
   ]
  },
  {
   "cell_type": "code",
   "execution_count": null,
   "metadata": {
    "slideshow": {
     "slide_type": "skip"
    }
   },
   "outputs": [],
   "source": [
    "import requests\n",
    "import pandas as pd\n",
    "#103年國中教育會考各科試題通過率\n",
    "url=\"http://www.k12ea.gov.tw/files/common_unit/f73ba335-69bc-4922-9ea7-bfebfb7f4749/doc/103%e5%b9%b4%e5%9c%8b%e4%b8%ad%e6%95%99%e8%82%b2%e6%9c%83%e8%80%83%e5%90%84%e7%a7%91%e8%a9%a6%e9%a1%8c%e9%80%9a%e9%81%8e%e7%8e%87.csv\"\n",
    "response=requests.get(url)\n",
    "# print(response.encoding)\n",
    "response.encoding = 'utf-8'\n",
    "data=response.text\n",
    "# print(new_data)\n",
    "\n",
    "with open(\"103_juniorhighschool_exam.csv\",\"w\", encoding='utf-8-sig') as f:\n",
    "    f.write(data)\n",
    "with open(\"103_juniorhighschool_exam.csv\",\"r\", encoding='utf-8-sig') as f:\n",
    "    df = pd.read_csv(f)\n",
    "    print(df.head())\n",
    "    # print(type(df))"
   ]
  },
  {
   "cell_type": "markdown",
   "metadata": {
    "slideshow": {
     "slide_type": "subslide"
    }
   },
   "source": [
    "如果你要開啟已經存在的　CSV 檔案"
   ]
  },
  {
   "cell_type": "code",
   "execution_count": 44,
   "metadata": {},
   "outputs": [
    {
     "name": "stdout",
     "output_type": "stream",
     "text": [
      "        time    kg     cm\n",
      "0  2018/8/11  53.0  160.0\n",
      "1  2018/8/12  52.0  159.5\n",
      "2  2018/8/13  50.0  160.5\n",
      "3  2018/8/14  51.0  160.0\n",
      "4  2018/8/15  51.0  160.0\n"
     ]
    }
   ],
   "source": [
    "import pandas as pd\n",
    "df=pd.read_csv('Dataframe.csv')\n",
    "print(df.head()) \n",
    "# print('-'*20)\n",
    "# print(df) "
   ]
  },
  {
   "cell_type": "markdown",
   "metadata": {},
   "source": [
    ".head() 的功能是只顯示檔案的前幾筆資料"
   ]
  },
  {
   "cell_type": "markdown",
   "metadata": {
    "slideshow": {
     "slide_type": "subslide"
    }
   },
   "source": [
    "下方是全部印出來，和前一頁使用 .head() 做個對比"
   ]
  },
  {
   "cell_type": "code",
   "execution_count": 43,
   "metadata": {},
   "outputs": [
    {
     "name": "stdout",
     "output_type": "stream",
     "text": [
      "           time    kg          cm\n",
      "0     2018/8/11  53.0  160.000000\n",
      "1     2018/8/12  52.0  159.500000\n",
      "2     2018/8/13  50.0  160.500000\n",
      "3     2018/8/14  51.0  160.000000\n",
      "4     2018/8/15  51.0  160.000000\n",
      "5     2018/8/16  49.9  160.150000\n",
      "6     2018/8/17  49.4  160.200000\n",
      "7     2018/8/18  48.9  160.250000\n",
      "8     2018/8/19  48.4  160.300000\n",
      "9     2018/8/20  47.9  160.350000\n",
      "10    2018/8/21  47.4  160.400000\n",
      "11    2018/8/22  46.9  160.450000\n",
      "12    2018/8/23  46.4  160.500000\n",
      "13    2018/8/24  48.0  160.550000\n",
      "14    2018/8/25  49.0  160.600000\n",
      "15    2018/8/26  50.0  160.650000\n",
      "16    2018/8/27  51.0  160.700000\n",
      "17    2018/8/28  51.0  160.750000\n",
      "18    2018/8/29  53.0  160.800000\n",
      "19    2018/8/30  52.0  160.850000\n",
      "20    2018/8/31  50.0  160.900000\n",
      "21     2018/9/1  51.0  160.950000\n",
      "22     2018/9/2  51.0  161.000000\n",
      "23     2018/9/3  50.0  161.050000\n",
      "24     2018/9/4  51.0  161.100000\n",
      "25     2018/9/5  51.0  161.116601\n",
      "26     2018/9/6  53.0  161.162549\n",
      "27     2018/9/7  52.0  161.208498\n",
      "28     2018/9/8  50.0  161.254447\n",
      "29     2018/9/9  51.0  161.300395\n",
      "..          ...   ...         ...\n",
      "109  2018/11/28  51.0  164.976285\n",
      "110  2018/11/29  51.0  165.022233\n",
      "111  2018/11/30  50.0  165.068182\n",
      "112   2018/12/1  51.0  165.114130\n",
      "113   2018/12/2  51.0  165.160079\n",
      "114   2018/12/3  53.0  165.206028\n",
      "115   2018/12/4  52.0  165.251976\n",
      "116   2018/12/5  50.0  165.297925\n",
      "117   2018/12/6  51.0  165.343874\n",
      "118   2018/12/7  51.0  165.389822\n",
      "119   2018/12/8  50.0  165.435771\n",
      "120   2018/12/9  51.0  165.481719\n",
      "121  2018/12/10  51.0  165.527668\n",
      "122  2018/12/11  53.0  165.573617\n",
      "123  2018/12/12  52.0  165.619565\n",
      "124  2018/12/13  50.0  165.665514\n",
      "125  2018/12/14  51.0  165.711463\n",
      "126  2018/12/15  51.0  165.757411\n",
      "127  2018/12/16  50.0  165.803360\n",
      "128  2018/12/17  51.0  165.849308\n",
      "129  2018/12/18  51.0  165.895257\n",
      "130  2018/12/19  53.0  165.941205\n",
      "131  2018/12/20  52.0  165.987154\n",
      "132  2018/12/21  50.0  166.033103\n",
      "133  2018/12/22  51.0  166.079051\n",
      "134  2018/12/23  51.0  166.125000\n",
      "135  2018/12/24  50.0  166.170949\n",
      "136  2018/12/25  51.0  166.216897\n",
      "137  2018/12/26  51.0  166.262846\n",
      "138  2018/12/27  53.0  166.308795\n",
      "\n",
      "[139 rows x 3 columns]\n"
     ]
    }
   ],
   "source": [
    "import pandas as pd\n",
    "df=pd.read_csv('Dataframe.csv')\n",
    "# print(df.head()) \n",
    "# print('-'*20)\n",
    "print(df)"
   ]
  },
  {
   "cell_type": "markdown",
   "metadata": {
    "slideshow": {
     "slide_type": "slide"
    }
   },
   "source": [
    "pandas 有兩種物件\n",
    " - Series：通常拿來處理一維資料，如時間序列。\n",
    " - Dataframe：有點像表格，用來處理 csv 這種列有索引(如下圖的0,1,2,3...)，欄有標籤(如下圖的time,kg)的二維資料。\n",
    "\n",
    "<img style=\"float: left;\" src=\"https://lh3.googleusercontent.com/wdASs3-CRgck946DweodlgnRF7ii7NXkIEQet0Oa6KQm-oE1m0Fg9E9fOnfbOhtj-UovtWSr2TTE4QH9xb3Dx-734RsiVS1cvLkf3g=w122-h91-rw-no\" width=\"20%\">\n",
    "<img style=\"float: left;\" src=\"https://lh3.googleusercontent.com/oDdU4ITwgSRBD9s6c851wLqCOcnGJGYeQsRt0VtXXJmR_64LXFMuWUTFEe5KQiZ-IKxtsJpiz_zSTQ=w143-h90-rw-no\" width=\"20%\">\n",
    "<img style=\"float: right;\" src=\"https://lh3.googleusercontent.com/G7QxtTAlda0-UVp6wl5XJrFkCGGAFk637icrtspAuglzE_rMw6PUdzv_Xhdhj4nWnA8pMTzQDr9HZg=w242-h119-rw-no\" width=\"40%\">"
   ]
  },
  {
   "cell_type": "markdown",
   "metadata": {
    "slideshow": {
     "slide_type": "slide"
    }
   },
   "source": [
    "Series\n",
    " * 比list更好用，list的選取方式是用 順序來做為 索引， 例如list[0,1,2,3,...] \n",
    " * 在Series，我們 索引 可以自己命名，例如Series[\"2018/8/11\",\"2018/8/12\",\"2018/8/13\",\"2018/8/14\"...]\n",
    " * 但如果我們要查看2018/9/1的數值時，如果用順序來做為 索引，會十分不便。\n",
    " * 在Series可以直接找2018/9/1的索引，如Series[\"2018/9/1\"]，就會出現對應的值。"
   ]
  },
  {
   "cell_type": "markdown",
   "metadata": {
    "slideshow": {
     "slide_type": "subslide"
    }
   },
   "source": [
    "# 練習1:找出2018/11/1的體重\n",
    "複製下方程式碼，修改一下\n",
    "<img style=\"float: left;\" src=\"https://lh3.googleusercontent.com/wdASs3-CRgck946DweodlgnRF7ii7NXkIEQet0Oa6KQm-oE1m0Fg9E9fOnfbOhtj-UovtWSr2TTE4QH9xb3Dx-734RsiVS1cvLkf3g=w122-h91-rw-no\" width=\"20%\">\n"
   ]
  },
  {
   "cell_type": "code",
   "execution_count": 72,
   "metadata": {
    "slideshow": {
     "slide_type": "-"
    }
   },
   "outputs": [
    {
     "name": "stdout",
     "output_type": "stream",
     "text": [
      "2018/10/30的體重是 51.0\n"
     ]
    }
   ],
   "source": [
    "import pandas as pd\n",
    "df=pd.read_csv('timeseries.csv')\n",
    "kg=df[\"kg\"].tolist()\n",
    "time=df[\"time\"]\n",
    "series=pd.Series(kg,index=time)\n",
    "print(\"2018/10/30的體重是\",series[\"2018/10/30\"])#修改這行"
   ]
  },
  {
   "cell_type": "markdown",
   "metadata": {
    "slideshow": {
     "slide_type": "subslide"
    }
   },
   "source": [
    "# 如何自己設置 索引 的名稱呢?"
   ]
  },
  {
   "cell_type": "code",
   "execution_count": 74,
   "metadata": {
    "scrolled": true
   },
   "outputs": [
    {
     "name": "stdout",
     "output_type": "stream",
     "text": [
      "2018/8/11    50\n",
      "2018/8/12    53\n",
      "2018/8/13    52\n",
      "2018/8/14    51\n",
      "2018/8/15    52\n",
      "dtype: int64\n"
     ]
    }
   ],
   "source": [
    "import pandas as pd\n",
    "# 若不加後面的index，則index預設是0,1,2,3...\n",
    "weight = [50, 53, 52, 51,52]\n",
    "time=[\"2018/8/11\",\"2018/8/12\",\"2018/8/13\",\"2018/8/14\",\"2018/8/15\"]\n",
    "series =  pd.Series(weight,index=time)\n",
    "print(series)"
   ]
  },
  {
   "cell_type": "markdown",
   "metadata": {
    "slideshow": {
     "slide_type": "subslide"
    }
   },
   "source": [
    "練習2:\n",
    " * 1.做出一個 水果-價錢 的 Series，以水果名字為index\n",
    " * 2.從Series以索引 \"名稱\" 取出banana的價格\n",
    " * 3.從Series以索引 \"順序\" 取出kiwi的價格"
   ]
  },
  {
   "cell_type": "code",
   "execution_count": null,
   "metadata": {},
   "outputs": [],
   "source": [
    "fruit=[\"banana\",\"apple\",\"kiwi\",\"watermelon\"]\n",
    "price=[10,20,8,80]"
   ]
  },
  {
   "cell_type": "markdown",
   "metadata": {},
   "source": [
    "<div style='color: white'>\n",
    "fruit=[\"banana\",\"apple\",\"kiwi\",\"watermelon\"] <br>\n",
    "price=[10,20,8,80] <br>\n",
    "fruit_price=pd.Series(price,index=fruit)<br>\n",
    "print(fruit_price)<br>\n",
    "print(\"banana\",fruit_price[\"banana\"])<br>\n",
    "print(\"kiwi\",fruit_price[2])<br>\n",
    "</div >"
   ]
  },
  {
   "cell_type": "markdown",
   "metadata": {},
   "source": [
    "# 也可以像這樣選取連續資料，想想 for i in range (n)的邏輯"
   ]
  },
  {
   "cell_type": "code",
   "execution_count": 110,
   "metadata": {
    "slideshow": {
     "slide_type": "-"
    }
   },
   "outputs": [
    {
     "name": "stdout",
     "output_type": "stream",
     "text": [
      "apple    20\n",
      "kiwi      8\n",
      "dtype: int64\n",
      "--------------------\n",
      "banana    10\n",
      "apple     20\n",
      "kiwi       8\n",
      "dtype: int64\n"
     ]
    }
   ],
   "source": [
    "fruit=[\"banana\",\"apple\",\"kiwi\",\"watermelon\",\"grape\"] \n",
    "price=[10,20,8,80,60] \n",
    "fruit_price=pd.Series(price,index=fruit)\n",
    "\n",
    "print(fruit_price[1:3]) # 從索引順序第2個到第4個\n",
    "print('-'*20)\n",
    "print(fruit_price[:\"kiwi\"]) #從第一個 ~ \"kiwi\""
   ]
  },
  {
   "cell_type": "markdown",
   "metadata": {
    "slideshow": {
     "slide_type": "subslide"
    }
   },
   "source": [
    "Series 跟一般的list比起來有何好處？\n",
    " * 1.可以直接對兩個Series做加減乘除\n",
    " * 2.運行速度快"
   ]
  },
  {
   "cell_type": "markdown",
   "metadata": {
    "slideshow": {
     "slide_type": "subslide"
    }
   },
   "source": [
    "# 1.可以直接對兩個Series做加減乘除\n",
    "計算物品的單價*數量，得到總價"
   ]
  },
  {
   "cell_type": "code",
   "execution_count": 104,
   "metadata": {
    "slideshow": {
     "slide_type": "-"
    }
   },
   "outputs": [
    {
     "name": "stdout",
     "output_type": "stream",
     "text": [
      "0    100\n",
      "1    600\n",
      "2    200\n",
      "3     60\n",
      "dtype: int64\n",
      "--------------------\n",
      "book     100\n",
      "ball     600\n",
      "car      200\n",
      "apple     60\n",
      "dtype: int64\n"
     ]
    }
   ],
   "source": [
    "item = [\"book\",\"ball\",\"car\",\"apple\"]\n",
    "price = pd.Series([100,200,40,10])\n",
    "counts = pd.Series([1,3,5,6])\n",
    "total= price*counts\n",
    "print(total)\n",
    "print('-'*20)\n",
    "# total_price=pd.Series(total.tolist(),index=item)\n",
    "# print(total_price)"
   ]
  },
  {
   "cell_type": "markdown",
   "metadata": {
    "slideshow": {
     "slide_type": "subslide"
    }
   },
   "source": [
    " # 提醒:\n",
    " * 製作series時，只能由list製作\n",
    " * 故在上頁  pd.Series(total.tolist(),index=item) ，不能直接輸入total，需要用pandas.tolist()轉換成list"
   ]
  },
  {
   "cell_type": "code",
   "execution_count": 7,
   "metadata": {
    "slideshow": {
     "slide_type": "skip"
    }
   },
   "outputs": [],
   "source": [
    "#2. 運行速度快\n",
    "# resources: SITCON Pandas p8: https://drive.google.com/drive/u/0/folders/0B0UIQiTTYz0BWVJkOHJVVGNUNWs\n",
    "import numpy as np\n",
    "import pandas as pd\n",
    "\n",
    "num_list = np.random.sample(1000000) # 隨機產生 100000 個數字的陣列, 這個陣列型態是 \"numpy 陣列\"\n",
    "pd_series = pd.Series(num_list)\n",
    "ori_list = list(num_list)  # 把 numpy 陣列轉變為一般 python 的陣列\n",
    "\n"
   ]
  },
  {
   "cell_type": "code",
   "execution_count": 32,
   "metadata": {
    "slideshow": {
     "slide_type": "skip"
    }
   },
   "outputs": [
    {
     "name": "stdout",
     "output_type": "stream",
     "text": [
      "116 ms ± 3.35 ms per loop (mean ± std. dev. of 7 runs, 10 loops each)\n"
     ]
    }
   ],
   "source": [
    "#list 運算\n",
    "%timeit [i+i for i in ori_list]"
   ]
  },
  {
   "cell_type": "code",
   "execution_count": 33,
   "metadata": {
    "slideshow": {
     "slide_type": "skip"
    }
   },
   "outputs": [
    {
     "name": "stdout",
     "output_type": "stream",
     "text": [
      "4 ms ± 173 µs per loop (mean ± std. dev. of 7 runs, 100 loops each)\n"
     ]
    }
   ],
   "source": [
    "#Series 運算\n",
    "%timeit pd_series+pd_series"
   ]
  },
  {
   "cell_type": "markdown",
   "metadata": {},
   "source": [
    "用 傳統的 (for i in ori_list...) 來將兩個list的內容相加的運算時間會是用 pd_series + pd_series 來相加的 數十倍"
   ]
  },
  {
   "cell_type": "markdown",
   "metadata": {
    "slideshow": {
     "slide_type": "subslide"
    }
   },
   "source": [
    "# data frame常用在處理各類統計數據\n",
    "例如:登記成績"
   ]
  },
  {
   "cell_type": "markdown",
   "metadata": {
    "slideshow": {
     "slide_type": "subslide"
    }
   },
   "source": [
    "# 建立data frame:\n",
    " * 用pandas.DataFrame()將 dictionary 轉換成 DataFrame"
   ]
  },
  {
   "cell_type": "code",
   "execution_count": 138,
   "metadata": {
    "slideshow": {
     "slide_type": "-"
    }
   },
   "outputs": [
    {
     "name": "stdout",
     "output_type": "stream",
     "text": [
      "   name  english  math\n",
      "0   Amy      100    60\n",
      "1  John       90    80\n",
      "2   Max       65    60\n",
      "3  Hill       80   100\n",
      "<class 'pandas.core.frame.DataFrame'>\n"
     ]
    }
   ],
   "source": [
    "name=[\"Amy\",\"John\",\"Max\",\"Hill\"]\n",
    "english=[100,90,65,80]\n",
    "math=[60,80,60,100]\n",
    "name=[\"Amy\",\"John\",\"Max\",\"Hill\"]\n",
    "\n",
    "dic={\"name\":name,\"english\":english,\"math\":math}\n",
    "df=pd.DataFrame(dic)\n",
    "print(df)\n",
    "print(type(df))"
   ]
  },
  {
   "cell_type": "markdown",
   "metadata": {
    "slideshow": {
     "slide_type": "subslide"
    }
   },
   "source": [
    "利用pd.DataFrame.index 可以換掉整串index的名稱"
   ]
  },
  {
   "cell_type": "code",
   "execution_count": 135,
   "metadata": {
    "slideshow": {
     "slide_type": "-"
    }
   },
   "outputs": [
    {
     "name": "stdout",
     "output_type": "stream",
     "text": [
      "      english  math\n",
      "Amy       100    60\n",
      "John       90    80\n",
      "Max        65    60\n",
      "Hill       80   100\n",
      "<class 'pandas.core.frame.DataFrame'>\n"
     ]
    }
   ],
   "source": [
    "name=[\"Amy\",\"John\",\"Max\",\"Hill\"]\n",
    "english=[100,90,65,80]\n",
    "math=[60,80,60,100]\n",
    "name=[\"Amy\",\"John\",\"Max\",\"Hill\"]\n",
    "dic={\"english\":english,\"math\":math}\n",
    "df1=pd.DataFrame(dic)\n",
    "df1.index = name ##把它註解試試\n",
    "print(df1)\n",
    "print(type(df1))"
   ]
  },
  {
   "cell_type": "markdown",
   "metadata": {
    "slideshow": {
     "slide_type": "slide"
    }
   },
   "source": [
    "# Df處理數據\n",
    " * 面對它\n",
    " * 處理它\n",
    " * 放下它\n",
    "<img style=\"float: right;\" src=\"https://www.mirrormedia.com.tw/assets/images/20180323181358-a5552d7672697b9c5796b4179b5e0940-mobile.jpg\" width=\"50%\">"
   ]
  },
  {
   "cell_type": "markdown",
   "metadata": {
    "slideshow": {
     "slide_type": "slide"
    }
   },
   "source": [
    "面對它\n",
    " * 1.查看數據的值.values\n",
    " * 2.查看數據的分析.describe"
   ]
  },
  {
   "cell_type": "markdown",
   "metadata": {
    "slideshow": {
     "slide_type": "subslide"
    }
   },
   "source": [
    "# 2.查看數據的值.values\n",
    "<img style=\"float: left;\" src=\"https://lh3.googleusercontent.com/8bk7jXBQvAAdJLNqNMyhfpXV2A-tuxh1EupXak2-sDs8rpUzWpikx4-mvhSX5P1JjF_1mOd6mRJ4Gw=w187-h101-rw-no\" width=\"20%\">"
   ]
  },
  {
   "cell_type": "code",
   "execution_count": 144,
   "metadata": {
    "scrolled": false
   },
   "outputs": [
    {
     "name": "stdout",
     "output_type": "stream",
     "text": [
      "[[100  60]\n",
      " [ 90  80]\n",
      " [ 65  60]\n",
      " [ 80 100]]\n"
     ]
    }
   ],
   "source": [
    "print(df1.values)"
   ]
  },
  {
   "cell_type": "markdown",
   "metadata": {
    "slideshow": {
     "slide_type": "subslide"
    }
   },
   "source": [
    "# 3.查看數據的分析\n",
    "<img style=\"float: left;\" src=\"https://lh3.googleusercontent.com/8bk7jXBQvAAdJLNqNMyhfpXV2A-tuxh1EupXak2-sDs8rpUzWpikx4-mvhSX5P1JjF_1mOd6mRJ4Gw=w187-h101-rw-no\" width=\"20%\">"
   ]
  },
  {
   "cell_type": "code",
   "execution_count": 141,
   "metadata": {},
   "outputs": [
    {
     "name": "stdout",
     "output_type": "stream",
     "text": [
      "          english        math\n",
      "count    4.000000    4.000000\n",
      "mean    83.750000   75.000000\n",
      "std     14.930394   19.148542\n",
      "min     65.000000   60.000000\n",
      "25%     76.250000   60.000000\n",
      "50%     85.000000   70.000000\n",
      "75%     92.500000   85.000000\n",
      "max    100.000000  100.000000\n"
     ]
    }
   ],
   "source": [
    "print(df1.describe())"
   ]
  },
  {
   "cell_type": "markdown",
   "metadata": {
    "slideshow": {
     "slide_type": "slide"
    }
   },
   "source": [
    "處理它\n",
    " * 排序:\n",
    "  * 依values排序.sort_values()[參考](https://pandas.pydata.org/pandas-docs/stable/generated/pandas.DataFrame.sort_values.html)"
   ]
  },
  {
   "cell_type": "markdown",
   "metadata": {
    "slideshow": {
     "slide_type": "subslide"
    }
   },
   "source": [
    "# 依 english的 values升冪排序\n",
    "<img style=\"float: left;\" src=\"https://lh3.googleusercontent.com/8bk7jXBQvAAdJLNqNMyhfpXV2A-tuxh1EupXak2-sDs8rpUzWpikx4-mvhSX5P1JjF_1mOd6mRJ4Gw=w187-h101-rw-no\" width=\"20%\">"
   ]
  },
  {
   "cell_type": "code",
   "execution_count": 146,
   "metadata": {
    "slideshow": {
     "slide_type": "-"
    }
   },
   "outputs": [
    {
     "name": "stdout",
     "output_type": "stream",
     "text": [
      "   name  english  math\n",
      "2   Max       65    60\n",
      "3  Hill       80   100\n",
      "1  John       90    80\n",
      "0   Amy      100    60\n"
     ]
    }
   ],
   "source": [
    "english_ascending=df.sort_values(by=\"english\")\n",
    "print(english_ascending)"
   ]
  },
  {
   "cell_type": "markdown",
   "metadata": {
    "slideshow": {
     "slide_type": "subslide"
    }
   },
   "source": [
    " # 練習2:\n",
    "把下面的DataFrame依照math成績由高到低做出降冪排序\n",
    "[參考](https://pandas.pydata.org/pandas-docs/stable/generated/pandas.DataFrame.sort_values.html)"
   ]
  },
  {
   "cell_type": "code",
   "execution_count": 35,
   "metadata": {},
   "outputs": [
    {
     "name": "stdout",
     "output_type": "stream",
     "text": [
      "      english  math\n",
      "Amy       100    60\n",
      "John       90    80\n",
      "Max        65    60\n",
      "Hill       80   100\n"
     ]
    }
   ],
   "source": [
    "#參考\n",
    "import pandas as pd\n",
    "english=[100,90,65,80]\n",
    "math=[60,80,60,100]\n",
    "name=[\"Amy\",\"John\",\"Max\",\"Hill\"]\n",
    "\n",
    "dic={\"english\":english,\"math\":math}\n",
    "df=pd.DataFrame(dic)\n",
    "df.index = name\n",
    "print(df)"
   ]
  },
  {
   "cell_type": "markdown",
   "metadata": {},
   "source": [
    "<div style='color: white'>\n",
    "#依 math的 values降冪排序 <br>\n",
    "math_declining=df.sort_values(by=\"math\", ascending=False)<br>\n",
    "print(math_declining)\n",
    "</div >"
   ]
  },
  {
   "cell_type": "markdown",
   "metadata": {
    "slideshow": {
     "slide_type": "slide"
    }
   },
   "source": [
    "# 處理它\n",
    " * 丟棄\n",
    "    * 丟棄值.drop()\n",
    "    * 丟棄空值.dropna()\n",
    " * 填充.fillna()\n",
    " * 替換 \n",
    " * [參考1](https://blog.csdn.net/zhili8866/article/details/68134481)\n",
    "//[Document](https://pandas.pydata.org/pandas-docs/stable/generated/pandas.DataFrame.replace.html)"
   ]
  },
  {
   "cell_type": "markdown",
   "metadata": {
    "slideshow": {
     "slide_type": "subslide"
    }
   },
   "source": [
    "空值的處理方法:\n",
    "> * 1.直接刪除整筆資料\n",
    "> * 2.拿平均值或中位數來替代\n",
    "> * 3.保留空值並忽略它"
   ]
  },
  {
   "cell_type": "code",
   "execution_count": 157,
   "metadata": {
    "slideshow": {
     "slide_type": "-"
    }
   },
   "outputs": [
    {
     "name": "stdout",
     "output_type": "stream",
     "text": [
      "      english  math\n",
      "Amy       100  60.0\n",
      "John       90   NaN\n",
      "Max        65  60.0\n",
      "Hill       80   NaN\n",
      "<class 'pandas.core.frame.DataFrame'>\n"
     ]
    }
   ],
   "source": [
    "import numpy as np\n",
    "import pandas as pd\n",
    "# np.nan 是從 numpy 來的，意思是空值，這裡可以先不管他。\n",
    "name=[\"Amy\",\"John\",\"Max\",\"Hill\"]\n",
    "df2 = pd.DataFrame([[100,60],[90,np.nan],[65,60],[80,np.nan]], index=name,columns=list([\"english\",\"math\"]))\n",
    "print(df2)\n",
    "print(type(df2))"
   ]
  },
  {
   "cell_type": "markdown",
   "metadata": {
    "slideshow": {
     "slide_type": "subslide"
    }
   },
   "source": [
    "# 丟棄含空值的資料 pandas.DataFrame.dropna()\n",
    "<img style=\"float: left;\" src=\"https://lh3.googleusercontent.com/WkVvmidsGuw_F9urOGUNDCN5u72Erpg7CelMKh8xS6ACAsyWD7HNvhKVXK80NqJQ9h6hBTjr2PUqcQ=w177-h99-rw-no\" width=\"20%\">"
   ]
  },
  {
   "cell_type": "code",
   "execution_count": 163,
   "metadata": {},
   "outputs": [
    {
     "name": "stdout",
     "output_type": "stream",
     "text": [
      "     english  math\n",
      "Amy      100  60.0\n",
      "Max       65  60.0\n"
     ]
    }
   ],
   "source": [
    "dropna=df2.dropna()\n",
    "print(dropna)"
   ]
  },
  {
   "cell_type": "markdown",
   "metadata": {
    "slideshow": {
     "slide_type": "subslide"
    }
   },
   "source": [
    "# 丟棄整欄或整列 pandas.DataFrame.dropna()\n",
    "<img style=\"float: left;\" src=\"https://lh3.googleusercontent.com/WkVvmidsGuw_F9urOGUNDCN5u72Erpg7CelMKh8xS6ACAsyWD7HNvhKVXK80NqJQ9h6hBTjr2PUqcQ=w177-h99-rw-no\" width=\"20%\">"
   ]
  },
  {
   "cell_type": "code",
   "execution_count": 164,
   "metadata": {},
   "outputs": [
    {
     "name": "stdout",
     "output_type": "stream",
     "text": [
      "      english\n",
      "Amy       100\n",
      "John       90\n",
      "Max        65\n",
      "Hill       80\n"
     ]
    }
   ],
   "source": [
    "drop=df2.drop([\"math\"], axis=1)\n",
    "print(drop)"
   ]
  },
  {
   "cell_type": "markdown",
   "metadata": {
    "slideshow": {
     "slide_type": "subslide"
    }
   },
   "source": [
    " # 替換-用位置來替換 pandas.DataFrame[\"目標欄(列\"]=[新的list(series)]\n",
    "<img style=\"float: left;\" src=\"https://lh3.googleusercontent.com/WkVvmidsGuw_F9urOGUNDCN5u72Erpg7CelMKh8xS6ACAsyWD7HNvhKVXK80NqJQ9h6hBTjr2PUqcQ=w177-h99-rw-no\" width=\"20%\">"
   ]
  },
  {
   "cell_type": "code",
   "execution_count": 166,
   "metadata": {},
   "outputs": [
    {
     "name": "stdout",
     "output_type": "stream",
     "text": [
      "      english  math\n",
      "Amy       100    60\n",
      "John       90    80\n",
      "Max        65    60\n",
      "Hill       80   100\n"
     ]
    }
   ],
   "source": [
    "math_=[60,80,60,100]\n",
    "math_new=pd.Series(math_)\n",
    "\n",
    "df2[\"math\"]=math_new.values\n",
    "print(df2)"
   ]
  },
  {
   "cell_type": "markdown",
   "metadata": {
    "slideshow": {
     "slide_type": "slide"
    }
   },
   "source": [
    "# 處理它\n",
    " * 合併資料:\n",
    " * .merge(): 根據相同欄位內容來合併[參考](https://pandas.pydata.org/pandas-docs/stable/merging.html#concatenating-using-append)"
   ]
  },
  {
   "cell_type": "markdown",
   "metadata": {
    "slideshow": {
     "slide_type": "slide"
    }
   },
   "source": [
    "# 合併兩組資料pandas.DataFrame.merge()\n",
    "<img style=\"float: left;\" src=\"https://lh3.googleusercontent.com/8bk7jXBQvAAdJLNqNMyhfpXV2A-tuxh1EupXak2-sDs8rpUzWpikx4-mvhSX5P1JjF_1mOd6mRJ4Gw=w187-h101-rw-no\" width=\"20%\">"
   ]
  },
  {
   "cell_type": "markdown",
   "metadata": {},
   "source": [
    "下面是新的資料"
   ]
  },
  {
   "cell_type": "code",
   "execution_count": 174,
   "metadata": {
    "slideshow": {
     "slide_type": "-"
    }
   },
   "outputs": [
    {
     "name": "stdout",
     "output_type": "stream",
     "text": [
      "   name  chinese\n",
      "0   Max       60\n",
      "1  Hill       80\n",
      "2   Amy       65\n",
      "3  John       50\n"
     ]
    }
   ],
   "source": [
    "import pandas as pd\n",
    "dic_1={\"name\":[\"Max\",\"Hill\",\"Amy\",\"John\"],\n",
    "     \"chinese\":[60,80,65,50]}\n",
    "df_1=pd.DataFrame(dic_1)\n",
    "print(df_1)"
   ]
  },
  {
   "cell_type": "markdown",
   "metadata": {
    "slideshow": {
     "slide_type": "subslide"
    }
   },
   "source": [
    "合併兩組資料pandas.DataFrame.merge()"
   ]
  },
  {
   "cell_type": "code",
   "execution_count": 183,
   "metadata": {},
   "outputs": [
    {
     "name": "stdout",
     "output_type": "stream",
     "text": [
      "   name  english  math  chinese\n",
      "0   Amy      100    60       65\n",
      "1  John       90    80       50\n",
      "2   Max       65    60       60\n",
      "3  Hill       80   100       80\n"
     ]
    }
   ],
   "source": [
    "merge=pd.merge(df,df_1, on='name', how='inner')\n",
    "print(merge)"
   ]
  },
  {
   "cell_type": "code",
   "execution_count": 188,
   "metadata": {
    "slideshow": {
     "slide_type": "skip"
    }
   },
   "outputs": [
    {
     "name": "stdout",
     "output_type": "stream",
     "text": [
      "   name  english  math  name  chinese\n",
      "0   Amy      100    60   Max       60\n",
      "1  John       90    80  Hill       80\n",
      "2   Max       65    60   Amy       65\n",
      "3  Hill       80   100  John       50\n"
     ]
    }
   ],
   "source": [
    "#.concat()\n",
    "df_2=pd.concat([df,df_1], axis=1)\n",
    "print(df_2)"
   ]
  },
  {
   "cell_type": "markdown",
   "metadata": {
    "slideshow": {
     "slide_type": "skip"
    }
   },
   "source": [
    "merge 跟 concat 他還有一些不常用的參數，未來有時間有興趣可以自己看文件\n",
    "* [.concate 與 .merge 文件連結](https://pandas.pydata.org/pandas-docs/stable/merging.html)\n",
    "或是[Lesson 09 - Data Visualisation By 呂伯駿 (Po Chun)](https://nbviewer.jupyter.org/format/slides/github/x-village/python-course/blob/master/Lesson08-Web%20Crawler/Lesson09-Data%20Visualisation.ipynb#/)\n"
   ]
  },
  {
   "cell_type": "markdown",
   "metadata": {
    "slideshow": {
     "slide_type": "slide"
    }
   },
   "source": [
    "# 最後一步\n",
    " * 在資料視覺化的時候，我們會用Series或list匯入處理好的資料\n",
    " * 前置步驟:(假設資料長這樣，我要用姓名當x軸//成績當作y軸)\n",
    "     * 從DataFrame取出列或欄"
   ]
  },
  {
   "cell_type": "markdown",
   "metadata": {
    "slideshow": {
     "slide_type": "subslide"
    }
   },
   "source": [
    "# 練習3:\n",
    " * 取出english的數值(從DataFrame轉Series)，並print出type=Series"
   ]
  },
  {
   "cell_type": "code",
   "execution_count": 190,
   "metadata": {},
   "outputs": [
    {
     "name": "stdout",
     "output_type": "stream",
     "text": [
      "      english  math\n",
      "Amy       100    60\n",
      "John       90    80\n",
      "Max        65    60\n",
      "Hill       80   100\n"
     ]
    }
   ],
   "source": [
    "#提示:回想series那邊教的資料選取\n",
    "import pandas as pd\n",
    "english=[100,90,65,80]\n",
    "math=[60,80,60,100]\n",
    "name=[\"Amy\",\"John\",\"Max\",\"Hill\"]\n",
    "\n",
    "dic={\"english\":english,\"math\":math}\n",
    "df=pd.DataFrame(dic)\n",
    "df.index = name\n",
    "print(df)"
   ]
  },
  {
   "cell_type": "markdown",
   "metadata": {},
   "source": [
    "<div style='color: white'>\n",
    "english=df[\"english\"]<br>\n",
    "print(english)<br>\n",
    "print(type(english))\n",
    "</div>"
   ]
  },
  {
   "cell_type": "markdown",
   "metadata": {
    "slideshow": {
     "slide_type": "slide"
    }
   },
   "source": [
    "以pandas.read_csv(\"檔案.csv\")開啟後，表格會具有DataFrame的形式"
   ]
  },
  {
   "cell_type": "code",
   "execution_count": 121,
   "metadata": {},
   "outputs": [
    {
     "name": "stdout",
     "output_type": "stream",
     "text": [
      "        time    kg     cm\n",
      "0  2018/8/11  53.0  160.0\n",
      "1  2018/8/12  52.0  159.5\n",
      "2  2018/8/13  50.0  160.5\n",
      "3  2018/8/14  51.0  160.0\n",
      "4  2018/8/15  51.0  160.0\n"
     ]
    }
   ],
   "source": [
    "import pandas as pd\n",
    "df1=pd.read_csv('Dataframe.csv')\n",
    "print(df1.head()) "
   ]
  },
  {
   "cell_type": "code",
   "execution_count": null,
   "metadata": {},
   "outputs": [],
   "source": [
    "Pandas回顧:\n",
    "放圖片"
   ]
  },
  {
   "cell_type": "markdown",
   "metadata": {
    "slideshow": {
     "slide_type": "slide"
    }
   },
   "source": [
    "延伸學習:\n",
    " * 從 pandas 開始 Python 與資料科學之旅:https://medium.com/datainpoint/從-pandas-開始-python-與資料科學之旅-8dee36796d4a\n",
    " * Pandas Groupby使用！https://ithelp.ithome.com.tw/articles/10194027\n",
    "\n",
    "參考資料:\n",
    " *  Lesson 09 - Data Visualisation By 呂伯駿 (Po Chun):\n",
    "    https://nbviewer.jupyter.org/format/slides/github/x-village/python-course/blob/master/Lesson08-Web%20Crawler/Lesson09-Data%20Visualisation.ipynb#/\n",
    " * pandas資料處理與分析的利器:\n",
    "    https://drive.google.com/drive/u/0/folders/0B0UIQiTTYz0BWVJkOHJVVGNUNWs"
   ]
  }
 ],
 "metadata": {
  "celltoolbar": "Slideshow",
  "kernelspec": {
   "display_name": "Python 3",
   "language": "python",
   "name": "python3"
  },
  "language_info": {
   "codemirror_mode": {
    "name": "ipython",
    "version": 3
   },
   "file_extension": ".py",
   "mimetype": "text/x-python",
   "name": "python",
   "nbconvert_exporter": "python",
   "pygments_lexer": "ipython3",
   "version": "3.6.6"
  }
 },
 "nbformat": 4,
 "nbformat_minor": 2
}
