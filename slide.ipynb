{
 "cells": [
  {
   "cell_type": "markdown",
   "metadata": {
    "slideshow": {
     "slide_type": "slide"
    }
   },
   "source": [
    "# [資料視覺化]\n",
    "  ## 資料處理-Pandas\n",
    "-游承霖"
   ]
  },
  {
   "cell_type": "markdown",
   "metadata": {
    "slideshow": {
     "slide_type": "slide"
    }
   },
   "source": [
    " * 你有排過志願序嗎?\n",
    " * 當你在手動一筆一筆整理資料的時候，耗時又容易出錯\n",
    "\n",
    "<img style=\"float: middle;\" src=\"https://lh3.googleusercontent.com/AarLG93gCtr3BmTCBFJ-1pffieYAA5dgFSKsplimqz5AoRlcgzCfoMOTGZh6S_hs7erZigkm4QYs2Q=w914-h616-rw-no\" width=\"90%\">\n"
   ]
  },
  {
   "cell_type": "markdown",
   "metadata": {
    "slideshow": {
     "slide_type": "subslide"
    }
   },
   "source": [
    "學程式到現在，你會想要怎麼做呢?"
   ]
  },
  {
   "cell_type": "markdown",
   "metadata": {
    "slideshow": {
     "slide_type": "subslide"
    }
   },
   "source": [
    "# 這時候你需要 pandas 這個模組~~~\n",
    "如果你已經會pandas了，你可以直接右滑到底，去看參考資料"
   ]
  },
  {
   "cell_type": "markdown",
   "metadata": {
    "slideshow": {
     "slide_type": "slide"
    }
   },
   "source": [
    "安裝pandas\n"
   ]
  },
  {
   "cell_type": "code",
   "execution_count": 38,
   "metadata": {
    "slideshow": {
     "slide_type": "-"
    }
   },
   "outputs": [],
   "source": [
    "# 如果你有裝Anaconda，跑下面這一行\n",
    "Anconda install pandas\n",
    "\n",
    "# 如果你沒有裝Anaconda，跑下面這一行\n",
    "pip install pandas"
   ]
  },
  {
   "cell_type": "markdown",
   "metadata": {
    "slideshow": {
     "slide_type": "slide"
    }
   },
   "source": [
    "Pandas 能做到什麼？\n",
    "- 你在 excel 中能做到的大部分他都能做到\n",
    "    - 匯入 CSV、txt、JSON檔\n",
    "    - 建立表格，選取欄位\n",
    "    - 處理空值\n",
    "    - 查看統計數字\n",
    "    - 排序，計算欄位平均值，相關係數"
   ]
  },
  {
   "cell_type": "markdown",
   "metadata": {
    "slideshow": {
     "slide_type": "slide"
    }
   },
   "source": [
    "- 接下來你會學到\n",
    "    - 以pandas開啟檔案\n",
    "    - pandas 的兩種常用物件\n",
    "        - 索引，標籤\n",
    "    - 選取數據，統計數字，排序，空值處理，合併"
   ]
  },
  {
   "cell_type": "markdown",
   "metadata": {
    "slideshow": {
     "slide_type": "slide"
    }
   },
   "source": [
    "開始! 🐌\n",
    "\n",
    "<div style=\"text-align: center\">\n",
    "    <img src=\"https://i.imgur.com/278YOGk.jpg\">\n",
    "</div>"
   ]
  },
  {
   "cell_type": "markdown",
   "metadata": {
    "slideshow": {
     "slide_type": "slide"
    }
   },
   "source": [
    "以pandas開啟檔案\n",
    "* 利用　「pandas.read_csv()」 開啟csv檔"
   ]
  },
  {
   "cell_type": "markdown",
   "metadata": {
    "slideshow": {
     "slide_type": "subslide"
    }
   },
   "source": [
    "如果你要開啟已經存在的　CSV 檔案"
   ]
  },
  {
   "cell_type": "code",
   "execution_count": 6,
   "metadata": {},
   "outputs": [
    {
     "name": "stdout",
     "output_type": "stream",
     "text": [
      "        time    kg     cm\n",
      "0  2018/8/11  53.0  160.0\n",
      "1  2018/8/12  52.0  159.5\n",
      "2  2018/8/13  50.0  160.5\n",
      "3  2018/8/14  51.0  160.0\n",
      "4  2018/8/15  51.0  160.0\n"
     ]
    }
   ],
   "source": [
    "import pandas as pd\n",
    "\n",
    "weight_height = pd.read_csv('Dataframe.csv')\n",
    "\n",
    "print(weight_height.head()) \n",
    "# print('-'*20)\n",
    "# print(df) "
   ]
  },
  {
   "cell_type": "markdown",
   "metadata": {},
   "source": [
    ".head() 的功能是只顯示檔案的前幾筆資料"
   ]
  },
  {
   "cell_type": "markdown",
   "metadata": {
    "slideshow": {
     "slide_type": "subslide"
    }
   },
   "source": [
    "下方是全部印出來，和前一頁使用 .head() 做個對比"
   ]
  },
  {
   "cell_type": "code",
   "execution_count": 8,
   "metadata": {},
   "outputs": [
    {
     "name": "stdout",
     "output_type": "stream",
     "text": [
      "           time    kg          cm\n",
      "0     2018/8/11  53.0  160.000000\n",
      "1     2018/8/12  52.0  159.500000\n",
      "2     2018/8/13  50.0  160.500000\n",
      "3     2018/8/14  51.0  160.000000\n",
      "4     2018/8/15  51.0  160.000000\n",
      "5     2018/8/16  49.9  160.150000\n",
      "6     2018/8/17  49.4  160.200000\n",
      "7     2018/8/18  48.9  160.250000\n",
      "8     2018/8/19  48.4  160.300000\n",
      "9     2018/8/20  47.9  160.350000\n",
      "10    2018/8/21  47.4  160.400000\n",
      "11    2018/8/22  46.9  160.450000\n",
      "12    2018/8/23  46.4  160.500000\n",
      "13    2018/8/24  48.0  160.550000\n",
      "14    2018/8/25  49.0  160.600000\n",
      "15    2018/8/26  50.0  160.650000\n",
      "16    2018/8/27  51.0  160.700000\n",
      "17    2018/8/28  51.0  160.750000\n",
      "18    2018/8/29  53.0  160.800000\n",
      "19    2018/8/30  52.0  160.850000\n",
      "20    2018/8/31  50.0  160.900000\n",
      "21     2018/9/1  51.0  160.950000\n",
      "22     2018/9/2  51.0  161.000000\n",
      "23     2018/9/3  50.0  161.050000\n",
      "24     2018/9/4  51.0  161.100000\n",
      "25     2018/9/5  51.0  161.116601\n",
      "26     2018/9/6  53.0  161.162549\n",
      "27     2018/9/7  52.0  161.208498\n",
      "28     2018/9/8  50.0  161.254447\n",
      "29     2018/9/9  51.0  161.300395\n",
      "..          ...   ...         ...\n",
      "109  2018/11/28  51.0  164.976285\n",
      "110  2018/11/29  51.0  165.022233\n",
      "111  2018/11/30  50.0  165.068182\n",
      "112   2018/12/1  51.0  165.114130\n",
      "113   2018/12/2  51.0  165.160079\n",
      "114   2018/12/3  53.0  165.206028\n",
      "115   2018/12/4  52.0  165.251976\n",
      "116   2018/12/5  50.0  165.297925\n",
      "117   2018/12/6  51.0  165.343874\n",
      "118   2018/12/7  51.0  165.389822\n",
      "119   2018/12/8  50.0  165.435771\n",
      "120   2018/12/9  51.0  165.481719\n",
      "121  2018/12/10  51.0  165.527668\n",
      "122  2018/12/11  53.0  165.573617\n",
      "123  2018/12/12  52.0  165.619565\n",
      "124  2018/12/13  50.0  165.665514\n",
      "125  2018/12/14  51.0  165.711463\n",
      "126  2018/12/15  51.0  165.757411\n",
      "127  2018/12/16  50.0  165.803360\n",
      "128  2018/12/17  51.0  165.849308\n",
      "129  2018/12/18  51.0  165.895257\n",
      "130  2018/12/19  53.0  165.941205\n",
      "131  2018/12/20  52.0  165.987154\n",
      "132  2018/12/21  50.0  166.033103\n",
      "133  2018/12/22  51.0  166.079051\n",
      "134  2018/12/23  51.0  166.125000\n",
      "135  2018/12/24  50.0  166.170949\n",
      "136  2018/12/25  51.0  166.216897\n",
      "137  2018/12/26  51.0  166.262846\n",
      "138  2018/12/27  53.0  166.308795\n",
      "\n",
      "[139 rows x 3 columns]\n"
     ]
    }
   ],
   "source": [
    "import pandas as pd\n",
    "\n",
    "weight_height = pd.read_csv('Dataframe.csv')\n",
    "\n",
    "# print(df.head()) \n",
    "# print('-'*20)\n",
    "print(weight_height)"
   ]
  },
  {
   "cell_type": "markdown",
   "metadata": {
    "slideshow": {
     "slide_type": "slide"
    }
   },
   "source": [
    "pandas 有兩種物件\n",
    " - Series：通常拿來處理一維資料，如時間序列。\n",
    " - Dataframe：有點像表格，用來處理 csv 這種列有索引(如下圖的0,1,2,3...)，欄有標籤(如下圖的time,kg)的二維資料。\n",
    "\n",
    "<img style=\"float: left;\" src=\"https://lh3.googleusercontent.com/gLMPLf2DP3A8YW1IAoL2SqzJ3YSHVgieGQtR61mAPG770dcPHmkUJN4j5pozeWPdtklZhO6pk8FUkw=w144-h669-rw-no\" width=\"20%\">\n",
    "\n",
    "<img style=\"float: right;\" src=\"https://lh3.googleusercontent.com/slYXcRnoLT6RSDg2XmgInZQFhm6Mcvx5Ug4l5iVt7nwJhpj3-KTP0Kvsx7elip25zXTQHS22lBUXRg=w291-h662-rw-no\" width=\"40%\">"
   ]
  },
  {
   "cell_type": "markdown",
   "metadata": {
    "slideshow": {
     "slide_type": "slide"
    }
   },
   "source": [
    "Series\n",
    " * 比list更好用，list的選取方式是用 順序來做為 索引， 例如list[0,1,2,3,...] \n",
    " * 在Series，我們 索引 可以自己命名，例如Series[\"2018/8/11\",\"2018/8/12\",\"2018/8/13\",\"2018/8/14\"...]\n",
    " * 但如果我們要查看2018/9/1的數值時，如果用順序來做為 索引，會十分不便。\n",
    " * 在Series可以直接找2018/9/1的索引，如Series[\"2018/9/1\"]，就會出現對應的值。"
   ]
  },
  {
   "cell_type": "markdown",
   "metadata": {
    "slideshow": {
     "slide_type": "subslide"
    }
   },
   "source": [
    "# 練習1:找出2018/8/24的體重\n",
    "複製下方程式碼，修改一下"
   ]
  },
  {
   "cell_type": "code",
   "execution_count": 29,
   "metadata": {
    "scrolled": true
   },
   "outputs": [
    {
     "name": "stdout",
     "output_type": "stream",
     "text": [
      "2018/8/22的體重是 50\n",
      "--------------------\n",
      "2018/8/11    50\n",
      "2018/8/12    53\n",
      "2018/8/13    52\n",
      "2018/8/14    51\n",
      "2018/8/15    52\n",
      "2018/8/16    50\n",
      "2018/8/17    53\n",
      "2018/8/18    52\n",
      "2018/8/19    51\n",
      "2018/8/21    52\n",
      "2018/8/22    50\n",
      "2018/8/23    53\n",
      "2018/8/24    52\n",
      "2018/8/25    52\n",
      "dtype: int64\n"
     ]
    }
   ],
   "source": [
    "import pandas as pd\n",
    "# 若不加後面的index，則index預設是0,1,2,3...\n",
    "\n",
    "kg = [50, 53, 52, 51, 52, 50, 53, 52, 51, 52, 50, 53, 52, 52]\n",
    "time = [\"2018/8/11\", \"2018/8/12\", \"2018/8/13\", \"2018/8/14\",\n",
    "        \"2018/8/15\", \"2018/8/16\", \"2018/8/17\", \"2018/8/18\", \n",
    "        \"2018/8/19\", \"2018/8/21\", \"2018/8/22\", \"2018/8/23\", \"2018/8/24\", \"2018/8/25\"]\n",
    "weight =  pd.Series(kg, index=time)\n",
    "\n",
    "print(\"2018/8/22的體重是\", weight[\"2018/8/22\"])#修改這行\n",
    "print(\"-\"*20)\n",
    "print(weight)"
   ]
  },
  {
   "cell_type": "markdown",
   "metadata": {
    "slideshow": {
     "slide_type": "slide"
    }
   },
   "source": [
    "# 解答"
   ]
  },
  {
   "cell_type": "code",
   "execution_count": 2,
   "metadata": {},
   "outputs": [
    {
     "name": "stdout",
     "output_type": "stream",
     "text": [
      "2018/8/24的體重是 52\n"
     ]
    }
   ],
   "source": [
    "import pandas as pd\n",
    "# 若不加後面的index，則index預設是0,1,2,3...\n",
    "\n",
    "kg = [50, 53, 52, 51, 52, 50, 53, 52, 51, 52, 50, 53, 52, 52]\n",
    "time = [\"2018/8/11\", \"2018/8/12\", \"2018/8/13\", \"2018/8/14\",\n",
    "        \"2018/8/15\", \"2018/8/16\", \"2018/8/17\", \"2018/8/18\", \n",
    "        \"2018/8/19\", \"2018/8/21\", \"2018/8/22\", \"2018/8/23\", \"2018/8/24\", \"2018/8/25\"]\n",
    "weight = pd.Series(kg, index=time)\n",
    "\n",
    "print(\"2018/8/24的體重是\", weight[\"2018/8/24\"])#修改這行"
   ]
  },
  {
   "cell_type": "markdown",
   "metadata": {
    "slideshow": {
     "slide_type": "slide"
    }
   },
   "source": [
    "# 如何自己設置 索引 的名稱呢?"
   ]
  },
  {
   "cell_type": "code",
   "execution_count": 14,
   "metadata": {
    "slideshow": {
     "slide_type": "-"
    }
   },
   "outputs": [
    {
     "name": "stdout",
     "output_type": "stream",
     "text": [
      "2018/8/11    50\n",
      "2018/8/12    53\n",
      "2018/8/13    52\n",
      "2018/8/14    51\n",
      "2018/8/15    52\n",
      "dtype: int64\n"
     ]
    }
   ],
   "source": [
    "import pandas as pd\n",
    "\n",
    "kg = [50, 53, 52, 51, 52]\n",
    "time = [\"2018/8/11\", \"2018/8/12\", \"2018/8/13\", \"2018/8/14\", \"2018/8/15\"]\n",
    "series = pd.Series(kg, index=time)\n",
    "\n",
    "print(weight)"
   ]
  },
  {
   "cell_type": "markdown",
   "metadata": {
    "slideshow": {
     "slide_type": "subslide"
    }
   },
   "source": [
    "# 練習2:\n",
    " * 1.做出一個 水果-價錢 的 Series，以水果名字為index\n",
    " * 2.從Series以索引 \"名稱\" 取出banana的價格\n",
    " * 3.從Series以索引 \"順序\" 取出kiwi的價格"
   ]
  },
  {
   "cell_type": "code",
   "execution_count": null,
   "metadata": {},
   "outputs": [],
   "source": [
    "fruit = [\"banana\", \"apple\", \"kiwi\", \"watermelon\"]\n",
    "price = [10, 20, 8, 80]"
   ]
  },
  {
   "cell_type": "markdown",
   "metadata": {
    "slideshow": {
     "slide_type": "slide"
    }
   },
   "source": [
    "# 解答"
   ]
  },
  {
   "cell_type": "code",
   "execution_count": 24,
   "metadata": {
    "slideshow": {
     "slide_type": "-"
    }
   },
   "outputs": [
    {
     "name": "stdout",
     "output_type": "stream",
     "text": [
      "banana        10\n",
      "apple         20\n",
      "kiwi           8\n",
      "watermelon    80\n",
      "dtype: int64\n",
      "--------------------\n",
      "banana 10\n",
      "--------------------\n",
      "kiwi 8\n"
     ]
    }
   ],
   "source": [
    "import pandas as pd\n",
    "\n",
    "fruit = [\"banana\", \"apple\", \"kiwi\", \"watermelon\"] \n",
    "price = [10, 20, 8, 80] \n",
    "fruit_price = pd.Series(price, index=fruit)\n",
    "\n",
    "print(fruit_price)\n",
    "print(\"-\"*20)\n",
    "\n",
    "print(\"banana\",fruit_price[\"banana\"])\n",
    "print(\"-\"*20)\n",
    "\n",
    "print(\"kiwi\",fruit_price[2])\n"
   ]
  },
  {
   "cell_type": "markdown",
   "metadata": {
    "slideshow": {
     "slide_type": "skip"
    }
   },
   "source": [
    "# 也可以像這樣選取連續資料，想想 for i in range (n)的邏輯"
   ]
  },
  {
   "cell_type": "code",
   "execution_count": 3,
   "metadata": {
    "slideshow": {
     "slide_type": "skip"
    }
   },
   "outputs": [
    {
     "name": "stdout",
     "output_type": "stream",
     "text": [
      "apple    20\n",
      "kiwi      8\n",
      "dtype: int64\n",
      "--------------------\n",
      "banana    10\n",
      "apple     20\n",
      "kiwi       8\n",
      "dtype: int64\n"
     ]
    }
   ],
   "source": [
    "import pandas as pd\n",
    "\n",
    "fruit = [\"banana\", \"apple\", \"kiwi\", \"watermelon\", \"grape\"] \n",
    "price = [10, 20, 8, 80, 60] \n",
    "fruit_price = pd.Series(price, index=fruit)\n",
    "\n",
    "print(fruit_price[1:3]) # 從索引順序第2個到第4個\n",
    "print('-'*20)\n",
    "\n",
    "print(fruit_price[\"banana\":\"kiwi\"]) #從\"banana\" ~ \"kiwi\"\n"
   ]
  },
  {
   "cell_type": "markdown",
   "metadata": {
    "slideshow": {
     "slide_type": "slide"
    }
   },
   "source": [
    "Series 跟一般的list比起來有何好處？\n",
    " * 1.可以直接對兩個Series做加減乘除\n",
    " * 2.運行速度快"
   ]
  },
  {
   "cell_type": "markdown",
   "metadata": {
    "slideshow": {
     "slide_type": "subslide"
    }
   },
   "source": [
    "# 1.可以直接對兩個Series做加減乘除\n",
    "計算物品的單價*數量，得到總價"
   ]
  },
  {
   "cell_type": "code",
   "execution_count": 5,
   "metadata": {
    "slideshow": {
     "slide_type": "-"
    }
   },
   "outputs": [
    {
     "name": "stdout",
     "output_type": "stream",
     "text": [
      "0    100\n",
      "1    600\n",
      "2    200\n",
      "3     60\n",
      "dtype: int64\n",
      "--------------------\n",
      "book     100\n",
      "ball     600\n",
      "car      200\n",
      "apple     60\n",
      "dtype: int64\n"
     ]
    }
   ],
   "source": [
    "import pandas as pd\n",
    "\n",
    "item = [\"book\", \"ball\", \"car\", \"apple\"]\n",
    "price = pd.Series([100, 200, 40, 10])\n",
    "counts = pd.Series([1, 3, 5, 6])\n",
    "\n",
    "total = price*counts\n",
    "\n",
    "print(total)\n",
    "print('-'*20)\n",
    "\n",
    "total.index = item\n",
    "print(total)"
   ]
  },
  {
   "cell_type": "code",
   "execution_count": 44,
   "metadata": {
    "slideshow": {
     "slide_type": "skip"
    }
   },
   "outputs": [],
   "source": [
    "#2. 運行速度快\n",
    "# resources: SITCON Pandas p8: https://drive.google.com/drive/u/0/folders/0B0UIQiTTYz0BWVJkOHJVVGNUNWs\n",
    "import numpy as np\n",
    "import pandas as pd\n",
    "\n",
    "num_list = np.random.sample(1000000) # 隨機產生 100000 個數字的陣列, 這個陣列型態是 \"numpy 陣列\"\n",
    "pd_series = pd.Series(num_list)\n",
    "ori_list = list(num_list)  # 把 numpy 陣列轉變為一般 python 的陣列\n",
    "\n"
   ]
  },
  {
   "cell_type": "code",
   "execution_count": 32,
   "metadata": {
    "slideshow": {
     "slide_type": "skip"
    }
   },
   "outputs": [
    {
     "name": "stdout",
     "output_type": "stream",
     "text": [
      "116 ms ± 3.35 ms per loop (mean ± std. dev. of 7 runs, 10 loops each)\n"
     ]
    }
   ],
   "source": [
    "#list 運算\n",
    "%timeit [i+i for i in ori_list]"
   ]
  },
  {
   "cell_type": "code",
   "execution_count": 33,
   "metadata": {
    "slideshow": {
     "slide_type": "skip"
    }
   },
   "outputs": [
    {
     "name": "stdout",
     "output_type": "stream",
     "text": [
      "4 ms ± 173 µs per loop (mean ± std. dev. of 7 runs, 100 loops each)\n"
     ]
    }
   ],
   "source": [
    "#Series 運算\n",
    "%timeit pd_series+pd_series"
   ]
  },
  {
   "cell_type": "markdown",
   "metadata": {
    "slideshow": {
     "slide_type": "skip"
    }
   },
   "source": [
    "用 傳統的 (for i in ori_list...) 來將兩個list的內容相加的運算時間會是用 pd_series + pd_series 來相加的 數十倍"
   ]
  },
  {
   "cell_type": "markdown",
   "metadata": {
    "slideshow": {
     "slide_type": "slide"
    }
   },
   "source": [
    "# data frame常用在處理各類統計數據\n",
    "例如:登記成績"
   ]
  },
  {
   "cell_type": "markdown",
   "metadata": {
    "slideshow": {
     "slide_type": "subslide"
    }
   },
   "source": [
    "# 建立data frame:\n",
    " * 用pandas.DataFrame()將 dictionary 轉換成 DataFrame"
   ]
  },
  {
   "cell_type": "code",
   "execution_count": 115,
   "metadata": {
    "slideshow": {
     "slide_type": "-"
    }
   },
   "outputs": [
    {
     "name": "stdout",
     "output_type": "stream",
     "text": [
      "   name  english  math\n",
      "0   Amy      100    60\n",
      "1  John       90    80\n",
      "2   Max       65    60\n",
      "3  Hill       80   100\n",
      "<class 'pandas.core.frame.DataFrame'>\n"
     ]
    }
   ],
   "source": [
    "import pandas as pd\n",
    "\n",
    "name = [\"Amy\", \"John\", \"Max\", \"Hill\"]\n",
    "english = [100, 90, 65, 80]\n",
    "math = [60, 80, 60, 100]\n",
    "\n",
    "dic = {\"name\":name,\"english\":english,\"math\":math}\n",
    "test_score = pd.DataFrame(dic)\n",
    "\n",
    "print(test_score)\n",
    "print(type(test_score))"
   ]
  },
  {
   "cell_type": "markdown",
   "metadata": {
    "slideshow": {
     "slide_type": "subslide"
    }
   },
   "source": [
    "利用pd.DataFrame.index 可以換掉整串index的名稱"
   ]
  },
  {
   "cell_type": "code",
   "execution_count": 117,
   "metadata": {
    "slideshow": {
     "slide_type": "-"
    }
   },
   "outputs": [
    {
     "name": "stdout",
     "output_type": "stream",
     "text": [
      "      english  math\n",
      "Amy       100    60\n",
      "John       90    80\n",
      "Max        65    60\n",
      "Hill       80   100\n",
      "<class 'pandas.core.frame.DataFrame'>\n"
     ]
    }
   ],
   "source": [
    "import pandas as pd\n",
    "\n",
    "name = [\"Amy\", \"John\", \"Max\", \"Hill\"]\n",
    "english = [100, 90, 65, 80]\n",
    "math = [60, 80, 60, 100]\n",
    "\n",
    "dic = {\"english\":english,\"math\":math}\n",
    "test_score = pd.DataFrame(dic, index=name)\n",
    "\n",
    "print(test_score)\n",
    "print(type(test_score))"
   ]
  },
  {
   "cell_type": "markdown",
   "metadata": {
    "slideshow": {
     "slide_type": "slide"
    }
   },
   "source": [
    "# Df處理數據\n",
    " * 面對它\n",
    " * 處理它\n",
    " * 放下它\n",
    "<img style=\"float: right;\" src=\"https://www.mirrormedia.com.tw/assets/images/20180323181358-a5552d7672697b9c5796b4179b5e0940-mobile.jpg\" width=\"50%\">"
   ]
  },
  {
   "cell_type": "markdown",
   "metadata": {
    "slideshow": {
     "slide_type": "slide"
    }
   },
   "source": [
    "面對它\n",
    " * 1.查看數據的值  pandas.DataFrame.loc\n",
    " * 2.查看數據的分析 pandas.DataFrame.describe"
   ]
  },
  {
   "cell_type": "markdown",
   "metadata": {
    "slideshow": {
     "slide_type": "subslide"
    }
   },
   "source": [
    "# 1.查看數據的值  pandas.DataFrame.loc\n",
    "[python document](https://pandas.pydata.org/pandas-docs/stable/generated/pandas.DataFrame.loc.html)\n",
    "<img style=\"float: left;\" src=\"https://lh3.googleusercontent.com/8bk7jXBQvAAdJLNqNMyhfpXV2A-tuxh1EupXak2-sDs8rpUzWpikx4-mvhSX5P1JjF_1mOd6mRJ4Gw=w187-h101-rw-no\" width=\"20%\">"
   ]
  },
  {
   "cell_type": "code",
   "execution_count": 70,
   "metadata": {
    "scrolled": false
   },
   "outputs": [
    {
     "name": "stdout",
     "output_type": "stream",
     "text": [
      "Amy     100\n",
      "John     90\n",
      "Max      65\n",
      "Hill     80\n",
      "Name: english, dtype: int64\n",
      "--------------------\n",
      "english    100\n",
      "math        60\n",
      "Name: Amy, dtype: int64\n",
      "--------------------\n",
      "100\n"
     ]
    }
   ],
   "source": [
    "import pandas as pd\n",
    "\n",
    "a = test_score[\"english\"]#印出行\n",
    "print(a)\n",
    "print(\"-\"*20)\n",
    "\n",
    "b = test_score.loc[\"Amy\"]#印出列\n",
    "print(b)\n",
    "print(\"-\"*20)\n",
    "\n",
    "c = test_score.loc[\"Amy\", \"english\"]#印出列行\n",
    "print(c)"
   ]
  },
  {
   "cell_type": "markdown",
   "metadata": {
    "slideshow": {
     "slide_type": "subslide"
    }
   },
   "source": [
    "# 練習 3:\n",
    "利用前面的test_score \n",
    " * 1.取出Max的英文數學成績\n",
    " * 2.取出Max的數學成績\n",
    "\n",
    "<img style=\"float: left;\" src=\"https://lh3.googleusercontent.com/8bk7jXBQvAAdJLNqNMyhfpXV2A-tuxh1EupXak2-sDs8rpUzWpikx4-mvhSX5P1JjF_1mOd6mRJ4Gw=w187-h101-rw-no\" width=\"20%\">"
   ]
  },
  {
   "cell_type": "markdown",
   "metadata": {
    "slideshow": {
     "slide_type": "slide"
    }
   },
   "source": [
    "# 解答"
   ]
  },
  {
   "cell_type": "code",
   "execution_count": 71,
   "metadata": {
    "slideshow": {
     "slide_type": "-"
    }
   },
   "outputs": [
    {
     "name": "stdout",
     "output_type": "stream",
     "text": [
      "english    65\n",
      "math       60\n",
      "Name: Max, dtype: int64\n",
      "--------------------\n",
      "60\n"
     ]
    }
   ],
   "source": [
    "b = test_score.loc[\"Max\"]#印出列\n",
    "print(b)\n",
    "print(\"-\"*20)\n",
    "\n",
    "c = test_score.loc[\"Max\", \"math\"]#印出列行\n",
    "print(c)"
   ]
  },
  {
   "cell_type": "markdown",
   "metadata": {
    "slideshow": {
     "slide_type": "slide"
    }
   },
   "source": [
    "# 2.查看數據的分析 pandas.DataFrame.describe()\n",
    "<img style=\"float: left;\" src=\"https://lh3.googleusercontent.com/8bk7jXBQvAAdJLNqNMyhfpXV2A-tuxh1EupXak2-sDs8rpUzWpikx4-mvhSX5P1JjF_1mOd6mRJ4Gw=w187-h101-rw-no\" width=\"20%\">"
   ]
  },
  {
   "cell_type": "code",
   "execution_count": 50,
   "metadata": {},
   "outputs": [
    {
     "name": "stdout",
     "output_type": "stream",
     "text": [
      "          english        math\n",
      "count    4.000000    4.000000\n",
      "mean    83.750000   75.000000\n",
      "std     14.930394   19.148542\n",
      "min     65.000000   60.000000\n",
      "25%     76.250000   60.000000\n",
      "50%     85.000000   70.000000\n",
      "75%     92.500000   85.000000\n",
      "max    100.000000  100.000000\n"
     ]
    }
   ],
   "source": [
    "print(test_score.describe())"
   ]
  },
  {
   "cell_type": "markdown",
   "metadata": {
    "slideshow": {
     "slide_type": "slide"
    }
   },
   "source": [
    "# 處理它\n",
    " * 排序:\n",
    "  * 依values排序pandas.DataFrame.sort_values()[參考](https://pandas.pydata.org/pandas-docs/stable/generated/pandas.DataFrame.sort_values.html)"
   ]
  },
  {
   "cell_type": "markdown",
   "metadata": {
    "slideshow": {
     "slide_type": "subslide"
    }
   },
   "source": [
    "# 依 english的 values升冪排序\n",
    "<img style=\"float: left;\" src=\"https://lh3.googleusercontent.com/8bk7jXBQvAAdJLNqNMyhfpXV2A-tuxh1EupXak2-sDs8rpUzWpikx4-mvhSX5P1JjF_1mOd6mRJ4Gw=w187-h101-rw-no\" width=\"20%\">"
   ]
  },
  {
   "cell_type": "code",
   "execution_count": 76,
   "metadata": {
    "slideshow": {
     "slide_type": "-"
    }
   },
   "outputs": [
    {
     "name": "stdout",
     "output_type": "stream",
     "text": [
      "      english  math\n",
      "Max        65    60\n",
      "Hill       80   100\n",
      "John       90    80\n",
      "Amy       100    60\n"
     ]
    }
   ],
   "source": [
    "english_ascending = test_score.sort_values(by=\"english\")\n",
    "\n",
    "print(english_ascending)"
   ]
  },
  {
   "cell_type": "markdown",
   "metadata": {
    "slideshow": {
     "slide_type": "subslide"
    }
   },
   "source": [
    " # 練習 4:\n",
    "把下面的DataFrame依照math成績由高到低做出降冪排序\n",
    "[參考](https://pandas.pydata.org/pandas-docs/stable/generated/pandas.DataFrame.sort_values.html)"
   ]
  },
  {
   "cell_type": "code",
   "execution_count": 119,
   "metadata": {},
   "outputs": [
    {
     "name": "stdout",
     "output_type": "stream",
     "text": [
      "      english  math\n",
      "Amy       100    60\n",
      "John       90    80\n",
      "Max        65    60\n",
      "Hill       80   100\n"
     ]
    }
   ],
   "source": [
    "#參考\n",
    "import pandas as pd\n",
    "\n",
    "english = [100,90,65,80]\n",
    "math = [60,80,60,100]\n",
    "name = [\"Amy\", \"John\", \"Max\", \"Hill\"]\n",
    "\n",
    "dic = {\"english\":english,\"math\":math}\n",
    "test_score = pd.DataFrame(dic, index=name)\n",
    "\n",
    "print(test_score)"
   ]
  },
  {
   "cell_type": "markdown",
   "metadata": {
    "slideshow": {
     "slide_type": "slide"
    }
   },
   "source": [
    "# 解答 :依 math的 values降冪排序 "
   ]
  },
  {
   "cell_type": "code",
   "execution_count": 83,
   "metadata": {
    "slideshow": {
     "slide_type": "-"
    }
   },
   "outputs": [
    {
     "name": "stdout",
     "output_type": "stream",
     "text": [
      "      english  math\n",
      "Hill       80   100\n",
      "John       90    80\n",
      "Amy       100    60\n",
      "Max        65    60\n"
     ]
    }
   ],
   "source": [
    "import pandas as pd\n",
    "\n",
    "math_declining = test_score.sort_values(by=\"math\", ascending=False)\n",
    "\n",
    "print(math_declining)"
   ]
  },
  {
   "cell_type": "markdown",
   "metadata": {
    "slideshow": {
     "slide_type": "slide"
    }
   },
   "source": [
    "# 放下它\n",
    "[空值範例](https://data.gov.tw/dataset/42171)\n",
    " * 丟棄\n",
    "    * 丟棄空值pandas.DataFrame.dropna()\n",
    " * [參考1](https://blog.csdn.net/zhili8866/article/details/68134481)\n",
    "//[Document](https://pandas.pydata.org/pandas-docs/stable/generated/pandas.DataFrame.replace.html)"
   ]
  },
  {
   "cell_type": "markdown",
   "metadata": {
    "slideshow": {
     "slide_type": "skip"
    }
   },
   "source": [
    "空值的處理方法:\n",
    "> * 1.直接刪除整筆資料\n",
    "> * 2.拿平均值或中位數來替代\n",
    "> * 3.保留空值並忽略它"
   ]
  },
  {
   "cell_type": "code",
   "execution_count": 121,
   "metadata": {
    "slideshow": {
     "slide_type": "subslide"
    }
   },
   "outputs": [
    {
     "name": "stdout",
     "output_type": "stream",
     "text": [
      "      english  math\n",
      "Amy       100  60.0\n",
      "John       90   NaN\n",
      "Max        65  60.0\n",
      "Hill       80   NaN\n",
      "<class 'pandas.core.frame.DataFrame'>\n"
     ]
    }
   ],
   "source": [
    "import numpy as np\n",
    "import pandas as pd\n",
    "# np.nan 是從 numpy 來的，意思是空值，這裡可以先不管他。\n",
    "\n",
    "name = [\"Amy\",\"John\",\"Max\",\"Hill\"]\n",
    "nannan = pd.DataFrame([[100, 60],[90, np.nan],[65, 60],[80, np.nan]], index=name, columns=list([\"english\",\"math\"]))\n",
    "\n",
    "print(nannan)\n",
    "print(type(nannan))"
   ]
  },
  {
   "cell_type": "markdown",
   "metadata": {
    "slideshow": {
     "slide_type": "subslide"
    }
   },
   "source": [
    "# 丟棄含空值的資料 pandas.DataFrame.dropna()\n",
    "<img style=\"float: left;\" src=\"https://lh3.googleusercontent.com/WkVvmidsGuw_F9urOGUNDCN5u72Erpg7CelMKh8xS6ACAsyWD7HNvhKVXK80NqJQ9h6hBTjr2PUqcQ=w177-h99-rw-no\" width=\"20%\">"
   ]
  },
  {
   "cell_type": "code",
   "execution_count": 123,
   "metadata": {},
   "outputs": [
    {
     "name": "stdout",
     "output_type": "stream",
     "text": [
      "     english  math\n",
      "Amy      100  60.0\n",
      "Max       65  60.0\n"
     ]
    }
   ],
   "source": [
    "import pandas as pd\n",
    "\n",
    "drop_nan = nannan.dropna()\n",
    "\n",
    "print(drop_nan)"
   ]
  },
  {
   "cell_type": "markdown",
   "metadata": {
    "slideshow": {
     "slide_type": "skip"
    }
   },
   "source": [
    " # 替換-用位置來替換 \n",
    " * pandas.DataFrame[\"目標欄(列\"]=[新的list(series)]\n",
    "\n",
    "<img style=\"float: left;\" src=\"https://lh3.googleusercontent.com/WkVvmidsGuw_F9urOGUNDCN5u72Erpg7CelMKh8xS6ACAsyWD7HNvhKVXK80NqJQ9h6hBTjr2PUqcQ=w177-h99-rw-no\" width=\"20%\">"
   ]
  },
  {
   "cell_type": "code",
   "execution_count": 124,
   "metadata": {
    "slideshow": {
     "slide_type": "skip"
    }
   },
   "outputs": [
    {
     "name": "stdout",
     "output_type": "stream",
     "text": [
      "      english  math\n",
      "Amy       100    60\n",
      "John       90    80\n",
      "Max        65    60\n",
      "Hill       80   100\n"
     ]
    }
   ],
   "source": [
    "import pandas as pd\n",
    "\n",
    "math_ = [60, 80, 60, 100]\n",
    "math_new = pd.Series(math_)\n",
    "\n",
    "df2[\"math\"] = math_new.values\n",
    "\n",
    "print(df2)"
   ]
  },
  {
   "cell_type": "markdown",
   "metadata": {
    "slideshow": {
     "slide_type": "skip"
    }
   },
   "source": [
    "只想換掉某個空格?\n",
    " * 回去前面複習dataframe的選取\n",
    " * 如果會選取，應該就會換了"
   ]
  },
  {
   "cell_type": "markdown",
   "metadata": {
    "slideshow": {
     "slide_type": "slide"
    }
   },
   "source": [
    "# 合併資料 pandas.DataFrame.merge()\n",
    "根據相同欄位內容來合併[參考](https://pandas.pydata.org/pandas-docs/stable/merging.html#concatenating-using-append)"
   ]
  },
  {
   "cell_type": "code",
   "execution_count": 125,
   "metadata": {
    "slideshow": {
     "slide_type": "subslide"
    }
   },
   "outputs": [
    {
     "name": "stdout",
     "output_type": "stream",
     "text": [
      "   name  english  math\n",
      "0   Amy      100    60\n",
      "1  John       90    80\n",
      "2   Max       65    60\n",
      "3  Hill       80   100\n",
      "--------------------\n",
      "   name  chinese\n",
      "0   Max       60\n",
      "1  Hill       80\n",
      "2   Amy       65\n",
      "3  John       50\n"
     ]
    }
   ],
   "source": [
    "import pandas as pd\n",
    "\n",
    "english = [100, 90, 65, 80]\n",
    "math = [60, 80, 60, 100]\n",
    "name = [\"Amy\", \"John\", \"Max\", \"Hill\"]\n",
    "\n",
    "dic = {\"name\":name,\"english\":english,\"math\":math}\n",
    "left = pd.DataFrame(dic)\n",
    "test_score.index = name\n",
    "\n",
    "print(left)\n",
    "print(\"-\"*20)\n",
    "\n",
    "dic_1 = {\"name\":[\"Max\", \"Hill\", \"Amy\", \"John\"], \"chinese\":[60, 80, 65, 50]}\n",
    "right = pd.DataFrame(dic_1)\n",
    "\n",
    "print(right)"
   ]
  },
  {
   "cell_type": "markdown",
   "metadata": {
    "slideshow": {
     "slide_type": "subslide"
    }
   },
   "source": [
    "合併兩組資料[pandas.DataFrame.merge()](https://pandas.pydata.org/pandas-docs/stable/generated/pandas.DataFrame.merge.html)"
   ]
  },
  {
   "cell_type": "code",
   "execution_count": 111,
   "metadata": {
    "scrolled": true
   },
   "outputs": [
    {
     "name": "stdout",
     "output_type": "stream",
     "text": [
      "   name  english  math  chinese\n",
      "0   Amy      100    60       65\n",
      "1  John       90    80       50\n",
      "2   Max       65    60       60\n",
      "3  Hill       80   100       80\n"
     ]
    }
   ],
   "source": [
    "import pandas as pd\n",
    "\n",
    "merge = pd.merge(left, right, on='name')\n",
    "\n",
    "print(merge)"
   ]
  },
  {
   "cell_type": "markdown",
   "metadata": {},
   "source": [
    " * on=\"依哪個 標籤 比對\""
   ]
  },
  {
   "cell_type": "markdown",
   "metadata": {
    "slideshow": {
     "slide_type": "slide"
    }
   },
   "source": [
    "# Pandas回顧:\n",
    ">* 以pandas開啟檔案 pandas.read_csv()\n",
    "    - print(xxx.head())\n",
    "    - pandas 的兩種常用物件\n",
    ">* Series：通常拿來處理一維資料，如時間序列。\n",
    "    - 索引\n",
    "    - Series做加減乘除\n",
    ">* Dataframe：有點像表格\n",
    "    - 索引\n",
    "    - 標籤\n",
    ">* 選取數據 pandas.DataFrame.loc\n",
    ">* 統計數字 pandas.DataFrame.describe()\n",
    ">* 排序     pandas.DataFrame.sort_values()\n",
    ">* 空值處理 pandas.DataFrame.dropna()\n",
    ">* 合併     pandas.DataFrame.merge()"
   ]
  },
  {
   "cell_type": "markdown",
   "metadata": {
    "slideshow": {
     "slide_type": "slide"
    }
   },
   "source": [
    "延伸學習:\n",
    " * 從 pandas 開始 Python 與資料科學之旅:https://medium.com/datainpoint/從-pandas-開始-python-與資料科學之旅-8dee36796d4a\n",
    " * Pandas Groupby使用！https://ithelp.ithome.com.tw/articles/10194027\n",
    "\n",
    "參考資料:\n",
    " *  Lesson 09 - Data Visualisation By 呂伯駿 (Po Chun):\n",
    "    https://nbviewer.jupyter.org/format/slides/github/x-village/python-course/blob/master/Lesson08-Web%20Crawler/Lesson09-Data%20Visualisation.ipynb#/\n",
    " * pandas資料處理與分析的利器:\n",
    "    https://drive.google.com/drive/u/0/folders/0B0UIQiTTYz0BWVJkOHJVVGNUNWs"
   ]
  },
  {
   "cell_type": "code",
   "execution_count": null,
   "metadata": {},
   "outputs": [],
   "source": []
  }
 ],
 "metadata": {
  "celltoolbar": "Slideshow",
  "kernelspec": {
   "display_name": "Python 3",
   "language": "python",
   "name": "python3"
  },
  "language_info": {
   "codemirror_mode": {
    "name": "ipython",
    "version": 3
   },
   "file_extension": ".py",
   "mimetype": "text/x-python",
   "name": "python",
   "nbconvert_exporter": "python",
   "pygments_lexer": "ipython3",
   "version": "3.6.6"
  }
 },
 "nbformat": 4,
 "nbformat_minor": 2
}
